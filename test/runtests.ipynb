{
 "cells": [
  {
   "cell_type": "markdown",
   "metadata": {},
   "source": [
    "# NAVM.jl 测试"
   ]
  },
  {
   "cell_type": "markdown",
   "metadata": {},
   "source": [
    "✨Powered by [**IpynbCompile.jl**](https://github.com/ARCJ137442/IpynbCompile.jl)"
   ]
  },
  {
   "cell_type": "markdown",
   "metadata": {},
   "source": [
    "## 模块导入"
   ]
  },
  {
   "cell_type": "markdown",
   "metadata": {},
   "source": [
    "模块清单：\n",
    "\n",
    "- JuNarsese\n",
    "- NAVM\n",
    "- Test"
   ]
  },
  {
   "cell_type": "code",
   "execution_count": 1,
   "metadata": {},
   "outputs": [
    {
     "name": "stdout",
     "output_type": "stream",
     "text": [
      "\u001b[92m\u001b[1mJuNarsese v2.6.3\u001b[22m\u001b[39m\n"
     ]
    },
    {
     "name": "stderr",
     "output_type": "stream",
     "text": [
      "\u001b[36m\u001b[1m┌ \u001b[22m\u001b[39m\u001b[36m\u001b[1mInfo: \u001b[22m\u001b[39mNAVM导入成功！\n",
      "\u001b[36m\u001b[1m│ \u001b[22m\u001b[39m  names(NAVM) =\n",
      "\u001b[36m\u001b[1m│ \u001b[22m\u001b[39m   34-element Vector{Symbol}:\n",
      "\u001b[36m\u001b[1m│ \u001b[22m\u001b[39m    Symbol(\"@nair\")\n",
      "\u001b[36m\u001b[1m│ \u001b[22m\u001b[39m    Symbol(\"@nair_rule\")\n",
      "\u001b[36m\u001b[1m│ \u001b[22m\u001b[39m    :Backend\n",
      "\u001b[36m\u001b[1m│ \u001b[22m\u001b[39m    :BackendModule\n",
      "\u001b[36m\u001b[1m│ \u001b[22m\u001b[39m    :CMD_CYC\n",
      "\u001b[36m\u001b[1m│ \u001b[22m\u001b[39m    ⋮\n",
      "\u001b[36m\u001b[1m│ \u001b[22m\u001b[39m    :source_type\n",
      "\u001b[36m\u001b[1m│ \u001b[22m\u001b[39m    :target_type\n",
      "\u001b[36m\u001b[1m│ \u001b[22m\u001b[39m    :transform\n",
      "\u001b[36m\u001b[1m│ \u001b[22m\u001b[39m    :try_transform\n",
      "\u001b[36m\u001b[1m└ \u001b[22m\u001b[39m    :tryparse_cmd\n",
      "\u001b[32m\u001b[1mPrecompiling\u001b[22m\u001b[39m NAVM_Implements\n",
      "\u001b[36m\u001b[1m        Info\u001b[22m\u001b[39m Given NAVM_Implements was explicitly requested, output will be shown live \u001b[0K\n",
      "\u001b[0K\u001b[92m\u001b[1mJuNarsese v2.6.3\u001b[22m\u001b[39m\n",
      "\u001b[32m  ✓ \u001b[39mNAVM_Implements\n",
      "  1 dependency successfully precompiled in 5 seconds. 20 already precompiled.\n",
      "  \u001b[33m1\u001b[39m dependency had output during precompilation:\u001b[33m\n",
      "┌ \u001b[39mNAVM_Implements\u001b[33m\n",
      "│  \u001b[39m[Output was shown above]\u001b[33m\n",
      "└  \u001b[39m\n"
     ]
    },
    {
     "data": {
      "text/plain": [
       "\"all\""
      ]
     },
     "execution_count": 1,
     "metadata": {},
     "output_type": "execute_result"
    }
   ],
   "source": [
    "include(\"#import.jl\")"
   ]
  },
  {
   "cell_type": "markdown",
   "metadata": {},
   "source": [
    "## 测试 / 前端"
   ]
  },
  {
   "cell_type": "code",
   "execution_count": 2,
   "metadata": {},
   "outputs": [
    {
     "name": "stdout",
     "output_type": "stream",
     "text": [
      "transform(fea, \"<A --> B>.\") = NAIR_CMD[CMD_NSE(<A --> B>. %1.0;0.5%)]\n",
      "fes([\"(Inheritance (Word A) (Word B))\"; \"12\"]) = NAIR_CMD[CMD_NSE(<A --> B>), CMD_CYC(12)]\n",
      "fea(\"/VOL 10\") = NAIR_CMD[CMD_VOL(10)]\n"
     ]
    },
    {
     "data": {
      "text/plain": [
       "1-element Vector{NAIR_CMD}:\n",
       " CMD_VOL(10)"
      ]
     },
     "execution_count": 2,
     "metadata": {},
     "output_type": "execute_result"
    }
   ],
   "source": [
    "fea = FE_TextParser(StringParser_ascii)\n",
    "fes = FE_TextParser(SExprParser)\n",
    "\n",
    "@show transform(fea, \"<A --> B>.\")\n",
    "@show fes([\n",
    "    \"(Inheritance (Word A) (Word B))\"\n",
    "    \"12\"\n",
    "])\n",
    "\n",
    "@show fea(\"/VOL 10\")"
   ]
  },
  {
   "cell_type": "markdown",
   "metadata": {},
   "source": [
    "## 测试 / 后端"
   ]
  },
  {
   "cell_type": "code",
   "execution_count": 3,
   "metadata": {},
   "outputs": [
    {
     "name": "stderr",
     "output_type": "stream",
     "text": [
      "\u001b[36m\u001b[1m┌ \u001b[22m\u001b[39m\u001b[36m\u001b[1mInfo: \u001b[22m\u001b[39mBE_OpenNARS()\n",
      "\u001b[36m\u001b[1m│ \u001b[22m\u001b[39m  be([NAVM.CMD_REM(\"这是一段不会被翻译的注释\"); NAVM.CMD_NSE(nse\"<A --> B>.\"); NAVM.CMD_NSE(nse\"<B --> C>.\"); NAVM.CMD_CYC(5)]) =\n",
      "\u001b[36m\u001b[1m│ \u001b[22m\u001b[39m   3-element Vector{String}:\n",
      "\u001b[36m\u001b[1m│ \u001b[22m\u001b[39m    \"<A --> B>. %1.0;0.5%\"\n",
      "\u001b[36m\u001b[1m│ \u001b[22m\u001b[39m    \"<B --> C>. %1.0;0.5%\"\n",
      "\u001b[36m\u001b[1m└ \u001b[22m\u001b[39m    \"5\"\n",
      "\u001b[36m\u001b[1m┌ \u001b[22m\u001b[39m\u001b[36m\u001b[1mInfo: \u001b[22m\u001b[39mBE_ONA()\n",
      "\u001b[36m\u001b[1m│ \u001b[22m\u001b[39m  be([NAVM.CMD_REM(\"这是一段不会被翻译的注释\"); NAVM.CMD_NSE(nse\"<A --> B>.\"); NAVM.CMD_NSE(nse\"<B --> C>.\"); NAVM.CMD_CYC(5)]) =\n",
      "\u001b[36m\u001b[1m│ \u001b[22m\u001b[39m   3-element Vector{String}:\n",
      "\u001b[36m\u001b[1m│ \u001b[22m\u001b[39m    \"<A --> B>. %1.0;0.5%\"\n",
      "\u001b[36m\u001b[1m│ \u001b[22m\u001b[39m    \"<B --> C>. %1.0;0.5%\"\n",
      "\u001b[36m\u001b[1m└ \u001b[22m\u001b[39m    \"5\"\n",
      "\u001b[36m\u001b[1m┌ \u001b[22m\u001b[39m\u001b[36m\u001b[1mInfo: \u001b[22m\u001b[39mBE_NARS_Python()\n",
      "\u001b[36m\u001b[1m│ \u001b[22m\u001b[39m  be([NAVM.CMD_REM(\"这是一段不会被翻译的注释\"); NAVM.CMD_NSE(nse\"<A --> B>.\"); NAVM.CMD_NSE(nse\"<B --> C>.\"); NAVM.CMD_CYC(5)]) =\n",
      "\u001b[36m\u001b[1m│ \u001b[22m\u001b[39m   2-element Vector{String}:\n",
      "\u001b[36m\u001b[1m│ \u001b[22m\u001b[39m    \"(A --> B). %1.0;0.5%\"\n",
      "\u001b[36m\u001b[1m└ \u001b[22m\u001b[39m    \"(B --> C). %1.0;0.5%\"\n",
      "\u001b[36m\u001b[1m┌ \u001b[22m\u001b[39m\u001b[36m\u001b[1mInfo: \u001b[22m\u001b[39mBE_PyNARS()\n",
      "\u001b[36m\u001b[1m│ \u001b[22m\u001b[39m  be([NAVM.CMD_REM(\"这是一段不会被翻译的注释\"); NAVM.CMD_NSE(nse\"<A --> B>.\"); NAVM.CMD_NSE(nse\"<B --> C>.\"); NAVM.CMD_CYC(5)]) =\n",
      "\u001b[36m\u001b[1m│ \u001b[22m\u001b[39m   3-element Vector{String}:\n",
      "\u001b[36m\u001b[1m│ \u001b[22m\u001b[39m    \"<A --> B>. %1.0;0.5%\"\n",
      "\u001b[36m\u001b[1m│ \u001b[22m\u001b[39m    \"<B --> C>. %1.0;0.5%\"\n",
      "\u001b[36m\u001b[1m└ \u001b[22m\u001b[39m    \"5\"\n",
      "\u001b[36m\u001b[1m┌ \u001b[22m\u001b[39m\u001b[36m\u001b[1mInfo: \u001b[22m\u001b[39mBE_OpenJunars()\n",
      "\u001b[36m\u001b[1m│ \u001b[22m\u001b[39m  be([NAVM.CMD_REM(\"这是一段不会被翻译的注释\"); NAVM.CMD_NSE(nse\"<A --> B>.\"); NAVM.CMD_NSE(nse\"<B --> C>.\"); NAVM.CMD_CYC(5)]) =\n",
      "\u001b[36m\u001b[1m│ \u001b[22m\u001b[39m   3-element Vector{String}:\n",
      "\u001b[36m\u001b[1m│ \u001b[22m\u001b[39m    \"<A --> B>. %1.0;0.5%\"\n",
      "\u001b[36m\u001b[1m│ \u001b[22m\u001b[39m    \"<B --> C>. %1.0;0.5%\"\n",
      "\u001b[36m\u001b[1m└ \u001b[22m\u001b[39m    \":c 5\"\n"
     ]
    }
   ],
   "source": [
    "ben = BE_OpenNARS()\n",
    "beo = BE_ONA()\n",
    "bep = BE_NARS_Python()\n",
    "bey = BE_PyNARS()\n",
    "bej = BE_OpenJunars()\n",
    "\n",
    "for be in [ben, beo, bep, bey, bej]\n",
    "    @info be be([\n",
    "        NAVM.CMD_REM(\"这是一段不会被翻译的注释\")\n",
    "        NAVM.CMD_NSE(nse\"<A --> B>.\")\n",
    "        NAVM.CMD_NSE(nse\"<B --> C>.\")\n",
    "        NAVM.CMD_CYC(5)\n",
    "        # NAVM.CMD_UNK(5, Operator, Int, :a123, r\"123\", nse\"<A --> B>.\")\n",
    "    ])\n",
    "end"
   ]
  },
  {
   "cell_type": "markdown",
   "metadata": {},
   "source": [
    "# 测试 / 前后端协同"
   ]
  },
  {
   "cell_type": "code",
   "execution_count": 4,
   "metadata": {},
   "outputs": [
    {
     "name": "stdout",
     "output_type": "stream",
     "text": [
      "chain_f = BE_OpenJunars() ∘ FE_TextParser(StringParser_ascii)\n",
      "chain_f([\"# 下面输入一段基本的三段论推理\\n# 基本逻辑：「A是B」「B是C」⇒「A是C」\\n\"; \"<A -->B>.\"; \"<B--> C>.\"; \"<A--> C>?\"; \"50\"]) = [\"<A --> B>. %1.0;0.5%\", \"<B --> C>. %1.0;0.5%\", \"<A --> C>?\", \":c 50\"]\n"
     ]
    },
    {
     "name": "stderr",
     "output_type": "stream",
     "text": [
      "\u001b[36m\u001b[1m[ \u001b[22m\u001b[39m\u001b[36m\u001b[1mInfo: \u001b[22m\u001b[39m从「FE_TextParser(SExprParser)字串」到「BE_OpenNARS()命令」\n",
      "\u001b[33m\u001b[1m┌ \u001b[22m\u001b[39m\u001b[33m\u001b[1mWarning: \u001b[22m\u001b[39mBE_OpenNARS(): 未知的指令「CMD_RES(\"memory\")」\n",
      "\u001b[33m\u001b[1m└ \u001b[22m\u001b[39m\u001b[90m@ NAVM_Implements h:\\A137442\\Develop\\_NAR\\NAVM_Implements\\src\\backend\\common.jl:17\u001b[39m\n",
      "\u001b[33m\u001b[1m┌ \u001b[22m\u001b[39m\u001b[33m\u001b[1mWarning: \u001b[22m\u001b[39mBE_OpenNARS(): 未知的指令「CMD_LOA(\"memory\", \"*\")」\n",
      "\u001b[33m\u001b[1m└ \u001b[22m\u001b[39m\u001b[90m@ NAVM_Implements h:\\A137442\\Develop\\_NAR\\NAVM_Implements\\src\\backend\\common.jl:17\u001b[39m\n"
     ]
    },
    {
     "name": "stdout",
     "output_type": "stream",
     "text": [
      "<A --> B>. %1.0;0.5%\n",
      "<B --> C>. %1.0;0.5%\n",
      "<A --> C>?\n",
      "*volume=10\n",
      "50\n",
      "50\n"
     ]
    },
    {
     "name": "stderr",
     "output_type": "stream",
     "text": [
      "\u001b[33m\u001b[1m┌ \u001b[22m\u001b[39m\u001b[33m\u001b[1mWarning: \u001b[22m\u001b[39mBE_OpenNARS(): 未知的指令「CMD_INF(\"memory\")」\n",
      "\u001b[33m\u001b[1m└ \u001b[22m\u001b[39m\u001b[90m@ NAVM_Implements h:\\A137442\\Develop\\_NAR\\NAVM_Implements\\src\\backend\\common.jl:17\u001b[39m\n",
      "\u001b[33m\u001b[1m┌ \u001b[22m\u001b[39m\u001b[33m\u001b[1mWarning: \u001b[22m\u001b[39mBE_OpenNARS(): 未知的指令「CMD_SAV(\"memory\", \"*\")」\n",
      "\u001b[33m\u001b[1m└ \u001b[22m\u001b[39m\u001b[90m@ NAVM_Implements h:\\A137442\\Develop\\_NAR\\NAVM_Implements\\src\\backend\\common.jl:17\u001b[39m\n",
      "\u001b[36m\u001b[1m[ \u001b[22m\u001b[39m\u001b[36m\u001b[1mInfo: \u001b[22m\u001b[39m从「FE_TextParser(SExprParser)字串」到「BE_ONA()命令」\n"
     ]
    },
    {
     "name": "stdout",
     "output_type": "stream",
     "text": [
      "*reset\n",
      "*load\n",
      "<A --> B>. %1.0;0.5%\n",
      "<B --> C>. %1.0;0.5%\n",
      "<A --> C>?\n",
      "*volume=10\n",
      "50\n",
      "50\n",
      "*save\n"
     ]
    },
    {
     "name": "stderr",
     "output_type": "stream",
     "text": [
      "\u001b[33m\u001b[1m┌ \u001b[22m\u001b[39m\u001b[33m\u001b[1mWarning: \u001b[22m\u001b[39mBE_ONA(): 未知的指令「CMD_INF(\"memory\")」\n",
      "\u001b[33m\u001b[1m└ \u001b[22m\u001b[39m\u001b[90m@ NAVM_Implements h:\\A137442\\Develop\\_NAR\\NAVM_Implements\\src\\backend\\common.jl:17\u001b[39m\n",
      "\u001b[36m\u001b[1m[ \u001b[22m\u001b[39m\u001b[36m\u001b[1mInfo: \u001b[22m\u001b[39m从「FE_TextParser(SExprParser)字串」到「BE_NARS_Python()命令」\n",
      "\u001b[33m\u001b[1m┌ \u001b[22m\u001b[39m\u001b[33m\u001b[1mWarning: \u001b[22m\u001b[39mBE_NARS_Python(): 未知的指令「CMD_RES(\"memory\")」\n",
      "\u001b[33m\u001b[1m└ \u001b[22m\u001b[39m\u001b[90m@ NAVM_Implements h:\\A137442\\Develop\\_NAR\\NAVM_Implements\\src\\backend\\common.jl:17\u001b[39m\n"
     ]
    },
    {
     "name": "stdout",
     "output_type": "stream",
     "text": [
      "load\n",
      "(A --> B). %1.0;0.5%\n",
      "(B --> C). %1.0;0.5%\n",
      "(A --> C)?\n",
      "count\n",
      "save\n"
     ]
    },
    {
     "name": "stderr",
     "output_type": "stream",
     "text": [
      "\u001b[33m\u001b[1m┌ \u001b[22m\u001b[39m\u001b[33m\u001b[1mWarning: \u001b[22m\u001b[39mBE_NARS_Python(): 未知的指令「CMD_VOL(10)」\n",
      "\u001b[33m\u001b[1m└ \u001b[22m\u001b[39m\u001b[90m@ NAVM_Implements h:\\A137442\\Develop\\_NAR\\NAVM_Implements\\src\\backend\\common.jl:17\u001b[39m\n",
      "\u001b[36m\u001b[1m[ \u001b[22m\u001b[39m\u001b[36m\u001b[1mInfo: \u001b[22m\u001b[39m从「FE_TextParser(SExprParser)字串」到「BE_PyNARS()命令」\n",
      "\u001b[33m\u001b[1m┌ \u001b[22m\u001b[39m\u001b[33m\u001b[1mWarning: \u001b[22m\u001b[39mBE_PyNARS(): 未知的指令「CMD_RES(\"memory\")」\n",
      "\u001b[33m\u001b[1m└ \u001b[22m\u001b[39m\u001b[90m@ NAVM_Implements h:\\A137442\\Develop\\_NAR\\NAVM_Implements\\src\\backend\\common.jl:17\u001b[39m\n"
     ]
    },
    {
     "name": "stdout",
     "output_type": "stream",
     "text": [
      "<A --> B>. %1.0;0.5%\n",
      "<B --> C>. %1.0;0.5%\n",
      "<A --> C>?\n",
      "50\n",
      "50\n"
     ]
    },
    {
     "name": "stderr",
     "output_type": "stream",
     "text": [
      "\u001b[33m\u001b[1m┌ \u001b[22m\u001b[39m\u001b[33m\u001b[1mWarning: \u001b[22m\u001b[39mBE_PyNARS(): 未知的指令「CMD_LOA(\"memory\", \"*\")」\n",
      "\u001b[33m\u001b[1m└ \u001b[22m\u001b[39m\u001b[90m@ NAVM_Implements h:\\A137442\\Develop\\_NAR\\NAVM_Implements\\src\\backend\\common.jl:17\u001b[39m\n",
      "\u001b[33m\u001b[1m┌ \u001b[22m\u001b[39m\u001b[33m\u001b[1mWarning: \u001b[22m\u001b[39mBE_PyNARS(): 未知的指令「CMD_VOL(10)」\n",
      "\u001b[33m\u001b[1m└ \u001b[22m\u001b[39m\u001b[90m@ NAVM_Implements h:\\A137442\\Develop\\_NAR\\NAVM_Implements\\src\\backend\\common.jl:17\u001b[39m\n",
      "\u001b[33m\u001b[1m┌ \u001b[22m\u001b[39m\u001b[33m\u001b[1mWarning: \u001b[22m\u001b[39mBE_PyNARS(): 未知的指令「CMD_INF(\"memory\")」\n",
      "\u001b[33m\u001b[1m└ \u001b[22m\u001b[39m\u001b[90m@ NAVM_Implements h:\\A137442\\Develop\\_NAR\\NAVM_Implements\\src\\backend\\common.jl:17\u001b[39m\n",
      "\u001b[33m\u001b[1m┌ \u001b[22m\u001b[39m\u001b[33m\u001b[1mWarning: \u001b[22m\u001b[39mBE_PyNARS(): 未知的指令「CMD_SAV(\"memory\", \"*\")」\n",
      "\u001b[33m\u001b[1m└ \u001b[22m\u001b[39m\u001b[90m@ NAVM_Implements h:\\A137442\\Develop\\_NAR\\NAVM_Implements\\src\\backend\\common.jl:17\u001b[39m\n",
      "\u001b[36m\u001b[1m[ \u001b[22m\u001b[39m\u001b[36m\u001b[1mInfo: \u001b[22m\u001b[39m从「FE_TextParser(SExprParser)字串」到「BE_OpenJunars()命令」\n"
     ]
    },
    {
     "name": "stdout",
     "output_type": "stream",
     "text": [
      "<A --> B>. %1.0;0.5%\n",
      "<B --> C>. %1.0;0.5%\n",
      "<A --> C>?\n",
      ":c 50\n",
      ":c 50\n",
      ":p\n"
     ]
    },
    {
     "name": "stderr",
     "output_type": "stream",
     "text": [
      "\u001b[33m\u001b[1m┌ \u001b[22m\u001b[39m\u001b[33m\u001b[1mWarning: \u001b[22m\u001b[39mBE_OpenJunars(): 未知的指令「CMD_RES(\"memory\")」\n",
      "\u001b[33m\u001b[1m└ \u001b[22m\u001b[39m\u001b[90m@ NAVM_Implements h:\\A137442\\Develop\\_NAR\\NAVM_Implements\\src\\backend\\common.jl:17\u001b[39m\n",
      "\u001b[33m\u001b[1m┌ \u001b[22m\u001b[39m\u001b[33m\u001b[1mWarning: \u001b[22m\u001b[39mBE_OpenJunars(): 未知的指令「CMD_LOA(\"memory\", \"*\")」\n",
      "\u001b[33m\u001b[1m└ \u001b[22m\u001b[39m\u001b[90m@ NAVM_Implements h:\\A137442\\Develop\\_NAR\\NAVM_Implements\\src\\backend\\common.jl:17\u001b[39m\n",
      "\u001b[33m\u001b[1m┌ \u001b[22m\u001b[39m\u001b[33m\u001b[1mWarning: \u001b[22m\u001b[39mBE_OpenJunars(): 未知的指令「CMD_VOL(10)」\n",
      "\u001b[33m\u001b[1m└ \u001b[22m\u001b[39m\u001b[90m@ NAVM_Implements h:\\A137442\\Develop\\_NAR\\NAVM_Implements\\src\\backend\\common.jl:17\u001b[39m\n",
      "\u001b[33m\u001b[1m┌ \u001b[22m\u001b[39m\u001b[33m\u001b[1mWarning: \u001b[22m\u001b[39mBE_OpenJunars(): 未知的指令「CMD_SAV(\"memory\", \"*\")」\n",
      "\u001b[33m\u001b[1m└ \u001b[22m\u001b[39m\u001b[90m@ NAVM_Implements h:\\A137442\\Develop\\_NAR\\NAVM_Implements\\src\\backend\\common.jl:17\u001b[39m\n"
     ]
    }
   ],
   "source": [
    "chain_f::Function = chain(fea, bej)\n",
    "@show chain_f\n",
    "@show chain_f([\n",
    "    # 多行文本测试\n",
    "    \"\"\"\n",
    "    # 下面输入一段基本的三段论推理\n",
    "    # 基本逻辑：「A是B」「B是C」⇒「A是C」\n",
    "    \"\"\"\n",
    "    \"<A -->B>.\"\n",
    "    \"<B--> C>.\"\n",
    "    \"<A--> C>?\"\n",
    "    \"50\"\n",
    "])\n",
    "\n",
    "for be in [ben, beo, bep, bey, bej]\n",
    "    @info \"从「$(fes)字串」到「$(be)命令」\"\n",
    "    join(\n",
    "        (be ∘ fes)(\"\"\"\n",
    "        /RES memory\n",
    "        /LOA memory *\n",
    "        # 下面输入一段基本的三段论推理\n",
    "        # 基本逻辑：「A是B」「B是C」⇒「A是C」\n",
    "        (SentenceJudgement (Inheritance (Word A) (Word B)) )\n",
    "        (SentenceJudgement (Inheritance (Word B) (Word C)) )\n",
    "        (SentenceQuestion  (Inheritance (Word A) (Word C)) )\n",
    "        /VOL 10\n",
    "        50\n",
    "        /CYC 50\n",
    "        /INF memory\n",
    "        /SAV memory *\n",
    "        \"\"\"),\n",
    "        \"\\n\"\n",
    "    ) |> println\n",
    "end"
   ]
  },
  {
   "cell_type": "markdown",
   "metadata": {},
   "source": [
    "## 尝试自编译"
   ]
  },
  {
   "cell_type": "code",
   "execution_count": 5,
   "metadata": {},
   "outputs": [
    {
     "name": "stderr",
     "output_type": "stream",
     "text": [
      "\u001b[34m\u001b[1m┌ \u001b[22m\u001b[39m\u001b[34m\u001b[1mDebug: \u001b[22m\u001b[39mLoading object cache file C:\\Users\\Administrator\\.julia\\compiled\\v1.10\\IpynbCompile\\pIVMh_pEIZk_1.dll for IpynbCompile [4eb781bf-a71e-403a-9d46-9d48649f04b2]\n",
      "\u001b[34m\u001b[1m└ \u001b[22m\u001b[39m\u001b[90m@ Base loading.jl:1051\u001b[39m\n"
     ]
    },
    {
     "data": {
      "text/plain": [
       "2262"
      ]
     },
     "execution_count": 5,
     "metadata": {},
     "output_type": "execute_result"
    }
   ],
   "source": [
    "# %ignore-cell\n",
    "using IpynbCompile: compile_notebook\n",
    "THIS_PATH = \"runtests.ipynb\"\n",
    "TARGET_PATH = \"runtests.jl\"\n",
    "compile_notebook(THIS_PATH, TARGET_PATH)"
   ]
  }
 ],
 "metadata": {
  "kernelspec": {
   "display_name": "Julia 1.10.0",
   "language": "julia",
   "name": "julia-1.10"
  },
  "language_info": {
   "file_extension": ".jl",
   "mimetype": "application/julia",
   "name": "julia",
   "version": "1.10.0"
  },
  "orig_nbformat": 4
 },
 "nbformat": 4,
 "nbformat_minor": 2
}
