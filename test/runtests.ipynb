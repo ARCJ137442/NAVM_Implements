{
 "cells": [
  {
   "cell_type": "markdown",
   "metadata": {},
   "source": [
    "# NAVM.jl 测试"
   ]
  },
  {
   "cell_type": "markdown",
   "metadata": {},
   "source": [
    "✨Powered by [**IpynbCompile.jl**](https://github.com/ARCJ137442/IpynbCompile.jl)"
   ]
  },
  {
   "cell_type": "markdown",
   "metadata": {},
   "source": [
    "## 模块导入"
   ]
  },
  {
   "cell_type": "markdown",
   "metadata": {},
   "source": [
    "模块清单：\n",
    "\n",
    "- JuNarsese\n",
    "- NAVM\n",
    "- Test"
   ]
  },
  {
   "cell_type": "code",
   "execution_count": 1,
   "metadata": {},
   "outputs": [
    {
     "name": "stdout",
     "output_type": "stream",
     "text": [
      "\u001b[92m\u001b[1mJuNarsese v2.6.3\u001b[22m\u001b[39m\n"
     ]
    },
    {
     "name": "stderr",
     "output_type": "stream",
     "text": [
      "\u001b[36m\u001b[1m┌ \u001b[22m\u001b[39m\u001b[36m\u001b[1mInfo: \u001b[22m\u001b[39mNAVM导入成功！\n",
      "\u001b[36m\u001b[1m│ \u001b[22m\u001b[39m  names(NAVM) =\n",
      "\u001b[36m\u001b[1m│ \u001b[22m\u001b[39m   33-element Vector{Symbol}:\n",
      "\u001b[36m\u001b[1m│ \u001b[22m\u001b[39m    :Backend\n",
      "\u001b[36m\u001b[1m│ \u001b[22m\u001b[39m    :BackendModule\n",
      "\u001b[36m\u001b[1m│ \u001b[22m\u001b[39m    :CMD_CYC\n",
      "\u001b[36m\u001b[1m│ \u001b[22m\u001b[39m    :CMD_DEL\n",
      "\u001b[36m\u001b[1m│ \u001b[22m\u001b[39m    :CMD_HLP\n",
      "\u001b[36m\u001b[1m│ \u001b[22m\u001b[39m    ⋮\n",
      "\u001b[36m\u001b[1m│ \u001b[22m\u001b[39m    :target_type\n",
      "\u001b[36m\u001b[1m│ \u001b[22m\u001b[39m    :transform\n",
      "\u001b[36m\u001b[1m│ \u001b[22m\u001b[39m    :try_form_cmd\n",
      "\u001b[36m\u001b[1m│ \u001b[22m\u001b[39m    :try_transform\n",
      "\u001b[36m\u001b[1m└ \u001b[22m\u001b[39m    :tryparse_cmd\n",
      "\u001b[32m\u001b[1mPrecompiling\u001b[22m\u001b[39m NAVM_Implements\n",
      "\u001b[36m\u001b[1m        Info\u001b[22m\u001b[39m Given NAVM_Implements was explicitly requested, output will be shown live \u001b[0K\n",
      "\u001b[0K\u001b[92m\u001b[1mJuNarsese v2.6.3\u001b[22m\u001b[39m\n",
      "\u001b[32m  ✓ \u001b[39mNAVM_Implements\n",
      "  1 dependency successfully precompiled in 4 seconds. 20 already precompiled.\n",
      "  \u001b[33m1\u001b[39m dependency had output during precompilation:\u001b[33m\n",
      "┌ \u001b[39mNAVM_Implements\u001b[33m\n",
      "│  \u001b[39m[Output was shown above]\u001b[33m\n",
      "└  \u001b[39m\n"
     ]
    },
    {
     "data": {
      "text/plain": [
       "\"all\""
      ]
     },
     "execution_count": 1,
     "metadata": {},
     "output_type": "execute_result"
    }
   ],
   "source": [
    "include(\"#import.jl\")"
   ]
  },
  {
   "cell_type": "markdown",
   "metadata": {},
   "source": [
    "## 测试 / 前端"
   ]
  },
  {
   "cell_type": "code",
   "execution_count": 2,
   "metadata": {},
   "outputs": [
    {
     "name": "stderr",
     "output_type": "stream",
     "text": [
      "\u001b[36m\u001b[1m┌ \u001b[22m\u001b[39m\u001b[36m\u001b[1mInfo: \u001b[22m\u001b[39m✅测试用前端 构建完成\n",
      "\u001b[36m\u001b[1m│ \u001b[22m\u001b[39m  fea = FE_TextParser(StringParser_ascii)\n",
      "\u001b[36m\u001b[1m└ \u001b[22m\u001b[39m  fes = FE_TextParser(SExprParser)\n"
     ]
    }
   ],
   "source": [
    "fea = FE_TextParser(StringParser_ascii)\n",
    "fes = FE_TextParser(SExprParser)\n",
    "@info \"✅测试用前端 构建完成\" fea fes"
   ]
  },
  {
   "cell_type": "code",
   "execution_count": 3,
   "metadata": {},
   "outputs": [],
   "source": [
    "#= %only-compiled # ! 前端测试组 上下文 开始\n",
    "@testset \"前端\" begin\n",
    "%only-compiled =#"
   ]
  },
  {
   "cell_type": "code",
   "execution_count": 4,
   "metadata": {},
   "outputs": [
    {
     "data": {
      "text/plain": [
       "\u001b[32m\u001b[1mTest Passed\u001b[22m\u001b[39m"
      ]
     },
     "execution_count": 4,
     "metadata": {},
     "output_type": "execute_result"
    }
   ],
   "source": [
    "let cmds = transform(fea, \"<A --> B>.\")\n",
    "    @test cmds |> length == 1\n",
    "    @test cmds[1] isa NAVM.CMD_NSE\n",
    "end\n",
    "\n",
    "let cmds = fea(\"/VOL 10\")\n",
    "    @test cmds |> length == 1\n",
    "    @test cmds[1] isa NAVM.CMD_VOL\n",
    "    @test cmds[1].volume == 10\n",
    "end\n",
    "\n",
    "let cmds = fes([\n",
    "    \"(Inheritance (Word A) (Word B))\"\n",
    "    \"12\"\n",
    "])\n",
    "    @test cmds[1] isa NAVM.CMD_NSE\n",
    "    @test cmds[1].narsese isa JuNarsese.AbstractTerm\n",
    "    @test cmds[1].narsese isa JuNarsese.Inheritance\n",
    "    @test cmds[1].narsese[1] isa JuNarsese.Word\n",
    "    @test cmds[1].narsese[2] isa JuNarsese.Word\n",
    "    @test cmds[1].narsese[1] |> JuNarsese.nameof == :A\n",
    "    @test cmds[1].narsese[2] |> JuNarsese.nameof == :B\n",
    "\n",
    "    @test cmds[2] isa NAVM.CMD_CYC\n",
    "    @test cmds[2].cycles == 12\n",
    "end"
   ]
  },
  {
   "cell_type": "code",
   "execution_count": 5,
   "metadata": {},
   "outputs": [],
   "source": [
    "#= %only-compiled # ! 前端测试组 上下文 结束\n",
    "end # begin @test\n",
    "%only-compiled =#"
   ]
  },
  {
   "cell_type": "markdown",
   "metadata": {},
   "source": [
    "## 测试 / 后端"
   ]
  },
  {
   "cell_type": "code",
   "execution_count": 6,
   "metadata": {},
   "outputs": [
    {
     "name": "stderr",
     "output_type": "stream",
     "text": [
      "\u001b[36m\u001b[1m┌ \u001b[22m\u001b[39m\u001b[36m\u001b[1mInfo: \u001b[22m\u001b[39m✅测试用后端 构建完成\n",
      "\u001b[36m\u001b[1m│ \u001b[22m\u001b[39m  ben = BE_OpenNARS()\n",
      "\u001b[36m\u001b[1m│ \u001b[22m\u001b[39m  beo = BE_ONA()\n",
      "\u001b[36m\u001b[1m│ \u001b[22m\u001b[39m  bep = BE_NARS_Python()\n",
      "\u001b[36m\u001b[1m│ \u001b[22m\u001b[39m  bey = BE_PyNARS()\n",
      "\u001b[36m\u001b[1m└ \u001b[22m\u001b[39m  bej = BE_OpenJunars()\n"
     ]
    }
   ],
   "source": [
    "ben = BE_OpenNARS()\n",
    "beo = BE_ONA()\n",
    "bep = BE_NARS_Python()\n",
    "bey = BE_PyNARS()\n",
    "bej = BE_OpenJunars()\n",
    "@info \"✅测试用后端 构建完成\" ben beo bep bey bej"
   ]
  },
  {
   "cell_type": "code",
   "execution_count": 7,
   "metadata": {},
   "outputs": [],
   "source": [
    "#= %only-compiled # ! 后端测试组 上下文 开始\n",
    "@testset \"后端\" begin\n",
    "%only-compiled =#"
   ]
  },
  {
   "cell_type": "code",
   "execution_count": 8,
   "metadata": {},
   "outputs": [
    {
     "name": "stderr",
     "output_type": "stream",
     "text": [
      "\u001b[36m\u001b[1m[ \u001b[22m\u001b[39m\u001b[36m\u001b[1mInfo: \u001b[22m\u001b[39m开始测试BE_OpenNARS()。。。\n",
      "\u001b[36m\u001b[1m[ \u001b[22m\u001b[39m\u001b[36m\u001b[1mInfo: \u001b[22m\u001b[39m测试成功！\n",
      "\u001b[36m\u001b[1m[ \u001b[22m\u001b[39m\u001b[36m\u001b[1mInfo: \u001b[22m\u001b[39m开始测试BE_ONA()。。。\n",
      "\u001b[36m\u001b[1m[ \u001b[22m\u001b[39m\u001b[36m\u001b[1mInfo: \u001b[22m\u001b[39m测试成功！\n",
      "\u001b[36m\u001b[1m[ \u001b[22m\u001b[39m\u001b[36m\u001b[1mInfo: \u001b[22m\u001b[39m开始测试BE_NARS_Python()。。。\n",
      "\u001b[36m\u001b[1m[ \u001b[22m\u001b[39m\u001b[36m\u001b[1mInfo: \u001b[22m\u001b[39m测试成功！\n",
      "\u001b[36m\u001b[1m[ \u001b[22m\u001b[39m\u001b[36m\u001b[1mInfo: \u001b[22m\u001b[39m开始测试BE_PyNARS()。。。\n",
      "\u001b[36m\u001b[1m[ \u001b[22m\u001b[39m\u001b[36m\u001b[1mInfo: \u001b[22m\u001b[39m测试成功！\n",
      "\u001b[36m\u001b[1m[ \u001b[22m\u001b[39m\u001b[36m\u001b[1mInfo: \u001b[22m\u001b[39m开始测试BE_OpenJunars()。。。\n",
      "\u001b[36m\u001b[1m[ \u001b[22m\u001b[39m\u001b[36m\u001b[1mInfo: \u001b[22m\u001b[39m测试成功！\n"
     ]
    }
   ],
   "source": [
    "# 轮流测试\n",
    "testset = [\n",
    "    NAVM.CMD_REM(\"这是一段不会被翻译的注释\")\n",
    "    NAVM.CMD_NSE(nse\"<A --> B>.\")\n",
    "    NAVM.CMD_NSE(nse\"<B --> C>.\")\n",
    "    NAVM.CMD_CYC(5)\n",
    "    # NAVM.CMD_UNK(5, Operator, Int, :a123, r\"123\", nse\"<A --> B>.\")\n",
    "]\n",
    "for be in [ben, beo, bep, bey, bej]\n",
    "    @info \"开始测试$(be)。。。\"\n",
    "    let result = be.(testset),\n",
    "        result_combined = be(testset)\n",
    "        @test length(result_combined) <= 4 # 不会超过四条\n",
    "        # 测试Narsese的共有部分\n",
    "        @test occursin(\"A --> B\", result[2][1])\n",
    "        @test occursin(\"B --> C\", result[3][1])\n",
    "        if be !== bep # NARS-Python 没有CYC\n",
    "            @test occursin(\"5\", result[4][1])\n",
    "        end\n",
    "        @info \"测试成功！\"\n",
    "    end\n",
    "end"
   ]
  },
  {
   "cell_type": "code",
   "execution_count": 9,
   "metadata": {},
   "outputs": [],
   "source": [
    "#= %only-compiled # ! 后端测试组 上下文 结束\n",
    "end # begin @test\n",
    "%only-compiled =#"
   ]
  },
  {
   "cell_type": "markdown",
   "metadata": {},
   "source": [
    "# 测试 / 前后端协同"
   ]
  },
  {
   "cell_type": "code",
   "execution_count": 10,
   "metadata": {},
   "outputs": [],
   "source": [
    "#= %only-compiled # ! 前后端协同测试组 上下文 开始\n",
    "@testset \"前后端协同\" begin\n",
    "%only-compiled =#"
   ]
  },
  {
   "cell_type": "code",
   "execution_count": 11,
   "metadata": {},
   "outputs": [
    {
     "name": "stdout",
     "output_type": "stream",
     "text": [
      "\u001b[96m\u001b[1m字串 |> FE_TextParser(SExprParser) |> BE_OpenNARS() = \u001b[22m\u001b[39m\n"
     ]
    },
    {
     "name": "stderr",
     "output_type": "stream",
     "text": [
      "\u001b[34m\u001b[1m┌ \u001b[22m\u001b[39m\u001b[34m\u001b[1mDebug: \u001b[22m\u001b[39mBE_OpenNARS(): 未知的指令「CMD_RES(\"memory\")」\n",
      "\u001b[34m\u001b[1m└ \u001b[22m\u001b[39m\u001b[90m@ NAVM_Implements h:\\A137442\\Develop\\_NAR\\NAVM_Implements\\src\\backend\\common.jl:17\u001b[39m\n",
      "\u001b[34m\u001b[1m┌ \u001b[22m\u001b[39m\u001b[34m\u001b[1mDebug: \u001b[22m\u001b[39mBE_OpenNARS(): 未知的指令「CMD_LOA(\"memory\", \"*\")」\n",
      "\u001b[34m\u001b[1m└ \u001b[22m\u001b[39m\u001b[90m@ NAVM_Implements h:\\A137442\\Develop\\_NAR\\NAVM_Implements\\src\\backend\\common.jl:17\u001b[39m\n",
      "\u001b[34m\u001b[1m┌ \u001b[22m\u001b[39m\u001b[34m\u001b[1mDebug: \u001b[22m\u001b[39mBE_OpenNARS(): 未知的指令「CMD_INF(\"memory\")」\n",
      "\u001b[34m\u001b[1m└ \u001b[22m\u001b[39m\u001b[90m@ NAVM_Implements h:\\A137442\\Develop\\_NAR\\NAVM_Implements\\src\\backend\\common.jl:17\u001b[39m\n",
      "\u001b[34m\u001b[1m┌ \u001b[22m\u001b[39m\u001b[34m\u001b[1mDebug: \u001b[22m\u001b[39mBE_OpenNARS(): 未知的指令「CMD_SAV(\"memory\", \"*\")」\n",
      "\u001b[34m\u001b[1m└ \u001b[22m\u001b[39m\u001b[90m@ NAVM_Implements h:\\A137442\\Develop\\_NAR\\NAVM_Implements\\src\\backend\\common.jl:17\u001b[39m\n"
     ]
    },
    {
     "name": "stdout",
     "output_type": "stream",
     "text": [
      "<A --> B>. %1.0;0.5%\n",
      "<B --> C>. %1.0;0.5%\n",
      "<A --> C>?\n",
      "*volume=10\n",
      "50\n",
      "50\n",
      "\u001b[96m\u001b[1m字串 |> FE_TextParser(SExprParser) |> BE_ONA() = \u001b[22m\u001b[39m\n",
      "*reset\n",
      "*load\n",
      "<A --> B>. %1.0;0.5%\n",
      "<B --> C>. %1.0;0.5%\n",
      "<A --> C>?\n",
      "*volume=10\n",
      "50\n",
      "50\n",
      "*save\n",
      "\u001b[96m\u001b[1m字串 |> FE_TextParser(SExprParser) |> BE_NARS_Python() = \u001b[22m\u001b[39m\n"
     ]
    },
    {
     "name": "stderr",
     "output_type": "stream",
     "text": [
      "\u001b[34m\u001b[1m┌ \u001b[22m\u001b[39m\u001b[34m\u001b[1mDebug: \u001b[22m\u001b[39mBE_ONA(): 未知的指令「CMD_INF(\"memory\")」\n",
      "\u001b[34m\u001b[1m└ \u001b[22m\u001b[39m\u001b[90m@ NAVM_Implements h:\\A137442\\Develop\\_NAR\\NAVM_Implements\\src\\backend\\common.jl:17\u001b[39m\n"
     ]
    },
    {
     "name": "stdout",
     "output_type": "stream",
     "text": [
      "load\n",
      "(A --> B). %1.0;0.5%\n",
      "(B --> C). %1.0;0.5%\n",
      "(A --> C)?\n",
      "count\n",
      "save\n"
     ]
    },
    {
     "name": "stderr",
     "output_type": "stream",
     "text": [
      "\u001b[34m\u001b[1m┌ \u001b[22m\u001b[39m\u001b[34m\u001b[1mDebug: \u001b[22m\u001b[39mBE_NARS_Python(): 未知的指令「CMD_RES(\"memory\")」\n",
      "\u001b[34m\u001b[1m└ \u001b[22m\u001b[39m\u001b[90m@ NAVM_Implements h:\\A137442\\Develop\\_NAR\\NAVM_Implements\\src\\backend\\common.jl:17\u001b[39m\n",
      "\u001b[34m\u001b[1m┌ \u001b[22m\u001b[39m\u001b[34m\u001b[1mDebug: \u001b[22m\u001b[39mBE_NARS_Python(): 未知的指令「CMD_VOL(10)」\n",
      "\u001b[34m\u001b[1m└ \u001b[22m\u001b[39m\u001b[90m@ NAVM_Implements h:\\A137442\\Develop\\_NAR\\NAVM_Implements\\src\\backend\\common.jl:17\u001b[39m\n"
     ]
    },
    {
     "name": "stdout",
     "output_type": "stream",
     "text": [
      "\u001b[96m\u001b[1m字串 |> FE_TextParser(SExprParser) |> BE_PyNARS() = \u001b[22m\u001b[39m\n",
      "<A --> B>. %1.0;0.5%\n",
      "<B --> C>. %1.0;0.5%\n",
      "<A --> C>?\n",
      "50\n",
      "50\n"
     ]
    },
    {
     "name": "stderr",
     "output_type": "stream",
     "text": [
      "\u001b[34m\u001b[1m┌ \u001b[22m\u001b[39m\u001b[34m\u001b[1mDebug: \u001b[22m\u001b[39mBE_PyNARS(): 未知的指令「CMD_RES(\"memory\")」\n",
      "\u001b[34m\u001b[1m└ \u001b[22m\u001b[39m\u001b[90m@ NAVM_Implements h:\\A137442\\Develop\\_NAR\\NAVM_Implements\\src\\backend\\common.jl:17\u001b[39m\n",
      "\u001b[34m\u001b[1m┌ \u001b[22m\u001b[39m\u001b[34m\u001b[1mDebug: \u001b[22m\u001b[39mBE_PyNARS(): 未知的指令「CMD_LOA(\"memory\", \"*\")」\n",
      "\u001b[34m\u001b[1m└ \u001b[22m\u001b[39m\u001b[90m@ NAVM_Implements h:\\A137442\\Develop\\_NAR\\NAVM_Implements\\src\\backend\\common.jl:17\u001b[39m\n",
      "\u001b[34m\u001b[1m┌ \u001b[22m\u001b[39m\u001b[34m\u001b[1mDebug: \u001b[22m\u001b[39mBE_PyNARS(): 未知的指令「CMD_VOL(10)」\n",
      "\u001b[34m\u001b[1m└ \u001b[22m\u001b[39m\u001b[90m@ NAVM_Implements h:\\A137442\\Develop\\_NAR\\NAVM_Implements\\src\\backend\\common.jl:17\u001b[39m\n",
      "\u001b[34m\u001b[1m┌ \u001b[22m\u001b[39m\u001b[34m\u001b[1mDebug: \u001b[22m\u001b[39mBE_PyNARS(): 未知的指令「CMD_INF(\"memory\")」\n",
      "\u001b[34m\u001b[1m└ \u001b[22m\u001b[39m\u001b[90m@ NAVM_Implements h:\\A137442\\Develop\\_NAR\\NAVM_Implements\\src\\backend\\common.jl:17\u001b[39m\n",
      "\u001b[34m\u001b[1m┌ \u001b[22m\u001b[39m\u001b[34m\u001b[1mDebug: \u001b[22m\u001b[39mBE_PyNARS(): 未知的指令「CMD_SAV(\"memory\", \"*\")」\n",
      "\u001b[34m\u001b[1m└ \u001b[22m\u001b[39m\u001b[90m@ NAVM_Implements h:\\A137442\\Develop\\_NAR\\NAVM_Implements\\src\\backend\\common.jl:17\u001b[39m\n"
     ]
    },
    {
     "name": "stdout",
     "output_type": "stream",
     "text": [
      "\u001b[96m\u001b[1m字串 |> FE_TextParser(SExprParser) |> BE_OpenJunars() = \u001b[22m\u001b[39m\n",
      "<A --> B>. %1.0;0.5%\n",
      "<B --> C>. %1.0;0.5%\n",
      "<A --> C>?\n",
      ":c 50\n",
      ":c 50\n",
      ":p\n"
     ]
    },
    {
     "name": "stderr",
     "output_type": "stream",
     "text": [
      "\u001b[34m\u001b[1m┌ \u001b[22m\u001b[39m\u001b[34m\u001b[1mDebug: \u001b[22m\u001b[39mBE_OpenJunars(): 未知的指令「CMD_RES(\"memory\")」\n",
      "\u001b[34m\u001b[1m└ \u001b[22m\u001b[39m\u001b[90m@ NAVM_Implements h:\\A137442\\Develop\\_NAR\\NAVM_Implements\\src\\backend\\common.jl:17\u001b[39m\n",
      "\u001b[34m\u001b[1m┌ \u001b[22m\u001b[39m\u001b[34m\u001b[1mDebug: \u001b[22m\u001b[39mBE_OpenJunars(): 未知的指令「CMD_LOA(\"memory\", \"*\")」\n",
      "\u001b[34m\u001b[1m└ \u001b[22m\u001b[39m\u001b[90m@ NAVM_Implements h:\\A137442\\Develop\\_NAR\\NAVM_Implements\\src\\backend\\common.jl:17\u001b[39m\n",
      "\u001b[34m\u001b[1m┌ \u001b[22m\u001b[39m\u001b[34m\u001b[1mDebug: \u001b[22m\u001b[39mBE_OpenJunars(): 未知的指令「CMD_VOL(10)」\n",
      "\u001b[34m\u001b[1m└ \u001b[22m\u001b[39m\u001b[90m@ NAVM_Implements h:\\A137442\\Develop\\_NAR\\NAVM_Implements\\src\\backend\\common.jl:17\u001b[39m\n",
      "\u001b[34m\u001b[1m┌ \u001b[22m\u001b[39m\u001b[34m\u001b[1mDebug: \u001b[22m\u001b[39mBE_OpenJunars(): 未知的指令「CMD_SAV(\"memory\", \"*\")」\n",
      "\u001b[34m\u001b[1m└ \u001b[22m\u001b[39m\u001b[90m@ NAVM_Implements h:\\A137442\\Develop\\_NAR\\NAVM_Implements\\src\\backend\\common.jl:17\u001b[39m\n"
     ]
    }
   ],
   "source": [
    "testset_a = [\n",
    "    # 多行文本测试\n",
    "    \"\"\"\n",
    "    # 下面输入一段基本的三段论推理\n",
    "    # 基本逻辑：「A是B」「B是C」⇒「A是C」\n",
    "    \"\"\"\n",
    "    \"<A -->B>.\"\n",
    "    \"<B--> C>.\"\n",
    "    \"<A--> C>?\"\n",
    "    \"50\"\n",
    "]\n",
    "testset_s = \"\"\"\n",
    "/RES memory\n",
    "/LOA memory *\n",
    "# 下面输入一段基本的三段论推理\n",
    "# 基本逻辑：「A是B」「B是C」⇒「A是C」\n",
    "(SentenceJudgement (Inheritance (Word A) (Word B)) )\n",
    "(SentenceJudgement (Inheritance (Word B) (Word C)) )\n",
    "(SentenceQuestion  (Inheritance (Word A) (Word C)) )\n",
    "/VOL 10\n",
    "50\n",
    "/CYC 50\n",
    "/INF memory\n",
    "/SAV memory *\n",
    "\"\"\"\n",
    "\n",
    "let chain_aj = chain(fea, bej)\n",
    "    result = chain_aj(testset_a)\n",
    "    @test chain_aj isa Function\n",
    "    @test occursin(\"A --> B\", result[1])\n",
    "    @test occursin(\".\", result[1])\n",
    "    @test occursin(\"B --> C\", result[2])\n",
    "    @test occursin(\".\", result[2])\n",
    "    @test occursin(\"A --> C\", result[3])\n",
    "    @test occursin(\"?\", result[3])\n",
    "    @test occursin(\"50\", result[4])\n",
    "end\n",
    "\n",
    "for be in [ben, beo, bep, bey, bej]\n",
    "    printstyled(\"字串 |> $(fes) |> $(be) = \\n\"; color=:light_cyan, bold=true)\n",
    "    let result = join((be ∘ fes)(testset_s), \"\\n\")\n",
    "        # OpenNARS、ONA的音量指令\n",
    "        if be in [ben, beo]\n",
    "            @test occursin(\"*volume=10\", result)\n",
    "        end\n",
    "        # 周期指令\n",
    "        if be === bej\n",
    "            # OpenJunars的周期指令\n",
    "            @test occursin(\":c\", result)\n",
    "        elseif be !== bep\n",
    "            # 非NARS-Python的周期指令\n",
    "            @test occursin(\"50\", result)\n",
    "        end\n",
    "        # Narsese\n",
    "        @test occursin(\"A --> B\", result)\n",
    "        @test occursin(\"B --> C\", result)\n",
    "        @test occursin(\"A --> C\", result)\n",
    "        @test occursin(\".\", result)\n",
    "        @test occursin(\"?\", result)\n",
    "        # 打印结果\n",
    "        result |> println\n",
    "    end\n",
    "end"
   ]
  },
  {
   "cell_type": "code",
   "execution_count": 12,
   "metadata": {},
   "outputs": [],
   "source": [
    "#= %only-compiled # ! 前后端协同测试组 上下文 结束\n",
    "end # begin @test\n",
    "%only-compiled =#"
   ]
  },
  {
   "cell_type": "markdown",
   "metadata": {},
   "source": [
    "## 尝试自编译"
   ]
  },
  {
   "cell_type": "code",
   "execution_count": 13,
   "metadata": {},
   "outputs": [
    {
     "name": "stderr",
     "output_type": "stream",
     "text": [
      "\u001b[34m\u001b[1m┌ \u001b[22m\u001b[39m\u001b[34m\u001b[1mDebug: \u001b[22m\u001b[39mLoading object cache file C:\\Users\\Administrator\\.julia\\compiled\\v1.10\\IpynbCompile\\pIVMh_pEIZk_1.dll for IpynbCompile [4eb781bf-a71e-403a-9d46-9d48649f04b2]\n",
      "\u001b[34m\u001b[1m└ \u001b[22m\u001b[39m\u001b[90m@ Base loading.jl:1051\u001b[39m\n"
     ]
    },
    {
     "data": {
      "text/plain": [
       "4561"
      ]
     },
     "execution_count": 13,
     "metadata": {},
     "output_type": "execute_result"
    }
   ],
   "source": [
    "# %ignore-cell\n",
    "using IpynbCompile: compile_notebook\n",
    "THIS_PATH = \"runtests.ipynb\"\n",
    "TARGET_PATH = \"runtests.jl\"\n",
    "compile_notebook(THIS_PATH, TARGET_PATH)"
   ]
  }
 ],
 "metadata": {
  "kernelspec": {
   "display_name": "Julia 1.10.0",
   "language": "julia",
   "name": "julia-1.10"
  },
  "language_info": {
   "file_extension": ".jl",
   "mimetype": "application/julia",
   "name": "julia",
   "version": "1.10.0"
  },
  "orig_nbformat": 4
 },
 "nbformat": 4,
 "nbformat_minor": 2
}
